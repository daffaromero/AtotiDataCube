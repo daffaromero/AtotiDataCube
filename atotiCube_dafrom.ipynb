{
 "cells": [
  {
   "cell_type": "code",
   "execution_count": 1,
   "id": "39d7dd30",
   "metadata": {
    "scrolled": false
   },
   "outputs": [
    {
     "name": "stdout",
     "output_type": "stream",
     "text": [
      "Welcome to atoti 0.7.1!\n",
      "\n",
      "By using this community edition, you agree with the license available at https://docs.atoti.io/latest/eula.html.\n",
      "Browse the official documentation at https://docs.atoti.io.\n",
      "Join the community at https://www.atoti.io/register.\n",
      "\n",
      "atoti collects telemetry data, which is used to help understand how to improve the product.\n",
      "If you don't wish to send usage data, set the ATOTI_DISABLE_TELEMETRY environment variable to True.\n",
      "\n",
      "You can hide this message by setting the ATOTI_HIDE_EULA_MESSAGE environment variable to True.\n"
     ]
    }
   ],
   "source": [
    "import pandas as pd\n",
    "import numpy as np\n",
    "import atoti as tt"
   ]
  },
  {
   "cell_type": "markdown",
   "id": "dcc88b54",
   "metadata": {},
   "source": [
    "## Melakukan loading dataset OULAD"
   ]
  },
  {
   "cell_type": "code",
   "execution_count": 2,
   "id": "fdcd25b6",
   "metadata": {},
   "outputs": [],
   "source": [
    "df_assess = pd.read_csv('assessments.csv')\n",
    "df_courses = pd.read_csv('courses.csv')\n",
    "df_studAssess = pd.read_csv('studentAssessment.csv')\n",
    "df_studInfo = pd.read_csv('studentInfo.csv')\n",
    "df_studReg = pd.read_csv('studentRegistration.csv')\n",
    "df_studVle =pd.read_csv('studentVle.csv',)\n",
    "df_vle = pd.read_csv('vle.csv')"
   ]
  },
  {
   "cell_type": "markdown",
   "id": "d806df1e",
   "metadata": {},
   "source": [
    "## Data Cleaning"
   ]
  },
  {
   "cell_type": "markdown",
   "id": "fd23b806",
   "metadata": {},
   "source": [
    "### Mengubah tipe data kolom \"id\" dari integer menjadi string\n",
    "Supaya id tidak dimasukkan ke dalam SUM ketika membuat data cube, maka kita ubah ke string"
   ]
  },
  {
   "cell_type": "markdown",
   "id": "af94474a",
   "metadata": {},
   "source": [
    "#### Tabel Assessments"
   ]
  },
  {
   "cell_type": "code",
   "execution_count": 3,
   "id": "b5bd306e",
   "metadata": {},
   "outputs": [
    {
     "name": "stdout",
     "output_type": "stream",
     "text": [
      "<class 'pandas.core.frame.DataFrame'>\n",
      "RangeIndex: 206 entries, 0 to 205\n",
      "Data columns (total 6 columns):\n",
      " #   Column             Non-Null Count  Dtype  \n",
      "---  ------             --------------  -----  \n",
      " 0   code_module        206 non-null    object \n",
      " 1   code_presentation  206 non-null    object \n",
      " 2   id_assessment      206 non-null    string \n",
      " 3   assessment_type    206 non-null    object \n",
      " 4   date               195 non-null    float64\n",
      " 5   weight             206 non-null    float64\n",
      "dtypes: float64(2), object(3), string(1)\n",
      "memory usage: 9.8+ KB\n"
     ]
    }
   ],
   "source": [
    "df_assess['id_assessment'] = df_assess['id_assessment'].astype('string')\n",
    "df_assess.info()"
   ]
  },
  {
   "cell_type": "markdown",
   "id": "1a0a664b",
   "metadata": {},
   "source": [
    "#### Tabel Student Assessments"
   ]
  },
  {
   "cell_type": "code",
   "execution_count": 4,
   "id": "73f0ef42",
   "metadata": {},
   "outputs": [
    {
     "name": "stdout",
     "output_type": "stream",
     "text": [
      "<class 'pandas.core.frame.DataFrame'>\n",
      "RangeIndex: 173912 entries, 0 to 173911\n",
      "Data columns (total 5 columns):\n",
      " #   Column          Non-Null Count   Dtype  \n",
      "---  ------          --------------   -----  \n",
      " 0   id_assessment   173912 non-null  string \n",
      " 1   id_student      173912 non-null  string \n",
      " 2   date_submitted  173912 non-null  int64  \n",
      " 3   is_banked       173912 non-null  int64  \n",
      " 4   score           173739 non-null  float64\n",
      "dtypes: float64(1), int64(2), string(2)\n",
      "memory usage: 6.6 MB\n"
     ]
    }
   ],
   "source": [
    "col = ['id_student','id_assessment']\n",
    "df_studAssess[col] = df_studAssess[col].astype('string')\n",
    "df_studAssess.info()"
   ]
  },
  {
   "cell_type": "markdown",
   "id": "e7979986",
   "metadata": {},
   "source": [
    "#### Tabel Student Info"
   ]
  },
  {
   "cell_type": "code",
   "execution_count": 5,
   "id": "8c762f0d",
   "metadata": {},
   "outputs": [
    {
     "name": "stdout",
     "output_type": "stream",
     "text": [
      "<class 'pandas.core.frame.DataFrame'>\n",
      "RangeIndex: 32593 entries, 0 to 32592\n",
      "Data columns (total 12 columns):\n",
      " #   Column                Non-Null Count  Dtype \n",
      "---  ------                --------------  ----- \n",
      " 0   code_module           32593 non-null  object\n",
      " 1   code_presentation     32593 non-null  object\n",
      " 2   id_student            32593 non-null  string\n",
      " 3   gender                32593 non-null  object\n",
      " 4   region                32593 non-null  object\n",
      " 5   highest_education     32593 non-null  object\n",
      " 6   imd_band              31482 non-null  object\n",
      " 7   age_band              32593 non-null  object\n",
      " 8   num_of_prev_attempts  32593 non-null  int64 \n",
      " 9   studied_credits       32593 non-null  int64 \n",
      " 10  disability            32593 non-null  object\n",
      " 11  final_result          32593 non-null  object\n",
      "dtypes: int64(2), object(9), string(1)\n",
      "memory usage: 3.0+ MB\n"
     ]
    }
   ],
   "source": [
    "df_studInfo['id_student'] = df_studInfo['id_student'].astype('string')\n",
    "df_studInfo.info()"
   ]
  },
  {
   "cell_type": "markdown",
   "id": "75ae43a5",
   "metadata": {},
   "source": [
    "#### Tabel Student Registration"
   ]
  },
  {
   "cell_type": "code",
   "execution_count": 6,
   "id": "26ce1a89",
   "metadata": {},
   "outputs": [
    {
     "name": "stdout",
     "output_type": "stream",
     "text": [
      "<class 'pandas.core.frame.DataFrame'>\n",
      "RangeIndex: 32593 entries, 0 to 32592\n",
      "Data columns (total 5 columns):\n",
      " #   Column               Non-Null Count  Dtype  \n",
      "---  ------               --------------  -----  \n",
      " 0   code_module          32593 non-null  object \n",
      " 1   code_presentation    32593 non-null  object \n",
      " 2   id_student           32593 non-null  string \n",
      " 3   date_registration    32548 non-null  float64\n",
      " 4   date_unregistration  10072 non-null  float64\n",
      "dtypes: float64(2), object(2), string(1)\n",
      "memory usage: 1.2+ MB\n"
     ]
    }
   ],
   "source": [
    "df_studReg['id_student'] = df_studReg['id_student'].astype('string')\n",
    "df_studReg.info()"
   ]
  },
  {
   "cell_type": "markdown",
   "id": "024c9bd4",
   "metadata": {},
   "source": [
    "#### Tabel Student VLE"
   ]
  },
  {
   "cell_type": "code",
   "execution_count": 7,
   "id": "121c2f25",
   "metadata": {},
   "outputs": [
    {
     "name": "stdout",
     "output_type": "stream",
     "text": [
      "<class 'pandas.core.frame.DataFrame'>\n",
      "RangeIndex: 10655280 entries, 0 to 10655279\n",
      "Data columns (total 6 columns):\n",
      " #   Column             Dtype \n",
      "---  ------             ----- \n",
      " 0   code_module        object\n",
      " 1   code_presentation  object\n",
      " 2   id_student         string\n",
      " 3   id_site            string\n",
      " 4   date               int64 \n",
      " 5   sum_click          int64 \n",
      "dtypes: int64(2), object(2), string(2)\n",
      "memory usage: 487.8+ MB\n"
     ]
    }
   ],
   "source": [
    "col = ['id_student','id_site']\n",
    "df_studVle[col] = df_studVle[col].astype('string')\n",
    "df_studVle.info()"
   ]
  },
  {
   "cell_type": "markdown",
   "id": "602457ab",
   "metadata": {},
   "source": [
    "#### Tabel VLE"
   ]
  },
  {
   "cell_type": "code",
   "execution_count": 8,
   "id": "adfde0a5",
   "metadata": {},
   "outputs": [
    {
     "name": "stdout",
     "output_type": "stream",
     "text": [
      "<class 'pandas.core.frame.DataFrame'>\n",
      "RangeIndex: 6364 entries, 0 to 6363\n",
      "Data columns (total 6 columns):\n",
      " #   Column             Non-Null Count  Dtype  \n",
      "---  ------             --------------  -----  \n",
      " 0   id_site            6364 non-null   string \n",
      " 1   code_module        6364 non-null   object \n",
      " 2   code_presentation  6364 non-null   object \n",
      " 3   activity_type      6364 non-null   object \n",
      " 4   week_from          1121 non-null   float64\n",
      " 5   week_to            1121 non-null   float64\n",
      "dtypes: float64(2), object(3), string(1)\n",
      "memory usage: 298.4+ KB\n"
     ]
    }
   ],
   "source": [
    "df_vle['id_site'] = df_vle['id_site'].astype('string')\n",
    "df_vle.info()"
   ]
  },
  {
   "cell_type": "markdown",
   "id": "579ab138",
   "metadata": {},
   "source": [
    "### Apakah ada kolom yang kosong pada tabel?\n",
    "Mengecek dengan pandas.isnull()"
   ]
  },
  {
   "cell_type": "markdown",
   "id": "62cbff10",
   "metadata": {},
   "source": [
    "#### Tabel Assessment"
   ]
  },
  {
   "cell_type": "code",
   "execution_count": 9,
   "id": "48f3bfd7",
   "metadata": {},
   "outputs": [
    {
     "data": {
      "text/html": [
       "<div>\n",
       "<style scoped>\n",
       "    .dataframe tbody tr th:only-of-type {\n",
       "        vertical-align: middle;\n",
       "    }\n",
       "\n",
       "    .dataframe tbody tr th {\n",
       "        vertical-align: top;\n",
       "    }\n",
       "\n",
       "    .dataframe thead th {\n",
       "        text-align: right;\n",
       "    }\n",
       "</style>\n",
       "<table border=\"1\" class=\"dataframe\">\n",
       "  <thead>\n",
       "    <tr style=\"text-align: right;\">\n",
       "      <th></th>\n",
       "      <th>Column</th>\n",
       "      <th>Null Values</th>\n",
       "    </tr>\n",
       "  </thead>\n",
       "  <tbody>\n",
       "    <tr>\n",
       "      <th>0</th>\n",
       "      <td>date</td>\n",
       "      <td>11</td>\n",
       "    </tr>\n",
       "    <tr>\n",
       "      <th>1</th>\n",
       "      <td>code_module</td>\n",
       "      <td>0</td>\n",
       "    </tr>\n",
       "    <tr>\n",
       "      <th>2</th>\n",
       "      <td>code_presentation</td>\n",
       "      <td>0</td>\n",
       "    </tr>\n",
       "    <tr>\n",
       "      <th>3</th>\n",
       "      <td>id_assessment</td>\n",
       "      <td>0</td>\n",
       "    </tr>\n",
       "    <tr>\n",
       "      <th>4</th>\n",
       "      <td>assessment_type</td>\n",
       "      <td>0</td>\n",
       "    </tr>\n",
       "    <tr>\n",
       "      <th>5</th>\n",
       "      <td>weight</td>\n",
       "      <td>0</td>\n",
       "    </tr>\n",
       "  </tbody>\n",
       "</table>\n",
       "</div>"
      ],
      "text/plain": [
       "              Column  Null Values\n",
       "0               date           11\n",
       "1        code_module            0\n",
       "2  code_presentation            0\n",
       "3      id_assessment            0\n",
       "4    assessment_type            0\n",
       "5             weight            0"
      ]
     },
     "execution_count": 9,
     "metadata": {},
     "output_type": "execute_result"
    }
   ],
   "source": [
    "null_value1 = pd.DataFrame(df_assess.isnull().sum().sort_values(ascending=False)).reset_index()\n",
    "null_value1.columns = ['Column','Null Values']\n",
    "null_value1"
   ]
  },
  {
   "cell_type": "code",
   "execution_count": 10,
   "id": "af7bae23",
   "metadata": {},
   "outputs": [
    {
     "name": "stdout",
     "output_type": "stream",
     "text": [
      "    assessment_type  date\n",
      "5              Exam   NaN\n",
      "11             Exam   NaN\n",
      "23             Exam   NaN\n",
      "35             Exam   NaN\n",
      "47             Exam   NaN\n",
      "53             Exam   NaN\n",
      "62             Exam   NaN\n",
      "63             Exam   NaN\n",
      "72             Exam   NaN\n",
      "73             Exam   NaN\n",
      "108            Exam   NaN\n"
     ]
    }
   ],
   "source": [
    "df1 = pd.DataFrame(df_assess, columns=['assessment_type','date'])\n",
    "nan_values1 = df1[df1['date'].isnull()]\n",
    "\n",
    "print (nan_values1)"
   ]
  },
  {
   "cell_type": "markdown",
   "id": "d5d3da29",
   "metadata": {},
   "source": [
    "Setelah dicocokkan dengan dataset, ternyata kolom yang null hanya yang bertipe Exam. Menurut deskripsi dataset, indikator 'Pass' atau 'Fail' sebuah assignment hanya bergantung dari nilai, bukan tanggal submisi. Maka dari itu, kami melakukan drop kolom 'date'."
   ]
  },
  {
   "cell_type": "code",
   "execution_count": 11,
   "id": "715b27d7",
   "metadata": {},
   "outputs": [],
   "source": [
    "df_assess = df_assess.drop(columns='date')"
   ]
  },
  {
   "cell_type": "code",
   "execution_count": 12,
   "id": "b0f661ab",
   "metadata": {},
   "outputs": [
    {
     "data": {
      "text/html": [
       "<div>\n",
       "<style scoped>\n",
       "    .dataframe tbody tr th:only-of-type {\n",
       "        vertical-align: middle;\n",
       "    }\n",
       "\n",
       "    .dataframe tbody tr th {\n",
       "        vertical-align: top;\n",
       "    }\n",
       "\n",
       "    .dataframe thead th {\n",
       "        text-align: right;\n",
       "    }\n",
       "</style>\n",
       "<table border=\"1\" class=\"dataframe\">\n",
       "  <thead>\n",
       "    <tr style=\"text-align: right;\">\n",
       "      <th></th>\n",
       "      <th>code_module</th>\n",
       "      <th>code_presentation</th>\n",
       "      <th>id_assessment</th>\n",
       "      <th>assessment_type</th>\n",
       "      <th>weight</th>\n",
       "    </tr>\n",
       "  </thead>\n",
       "  <tbody>\n",
       "    <tr>\n",
       "      <th>0</th>\n",
       "      <td>AAA</td>\n",
       "      <td>2013J</td>\n",
       "      <td>1752</td>\n",
       "      <td>TMA</td>\n",
       "      <td>10.0</td>\n",
       "    </tr>\n",
       "    <tr>\n",
       "      <th>1</th>\n",
       "      <td>AAA</td>\n",
       "      <td>2013J</td>\n",
       "      <td>1753</td>\n",
       "      <td>TMA</td>\n",
       "      <td>20.0</td>\n",
       "    </tr>\n",
       "    <tr>\n",
       "      <th>2</th>\n",
       "      <td>AAA</td>\n",
       "      <td>2013J</td>\n",
       "      <td>1754</td>\n",
       "      <td>TMA</td>\n",
       "      <td>20.0</td>\n",
       "    </tr>\n",
       "    <tr>\n",
       "      <th>3</th>\n",
       "      <td>AAA</td>\n",
       "      <td>2013J</td>\n",
       "      <td>1755</td>\n",
       "      <td>TMA</td>\n",
       "      <td>20.0</td>\n",
       "    </tr>\n",
       "    <tr>\n",
       "      <th>4</th>\n",
       "      <td>AAA</td>\n",
       "      <td>2013J</td>\n",
       "      <td>1756</td>\n",
       "      <td>TMA</td>\n",
       "      <td>30.0</td>\n",
       "    </tr>\n",
       "  </tbody>\n",
       "</table>\n",
       "</div>"
      ],
      "text/plain": [
       "  code_module code_presentation id_assessment assessment_type  weight\n",
       "0         AAA             2013J          1752             TMA    10.0\n",
       "1         AAA             2013J          1753             TMA    20.0\n",
       "2         AAA             2013J          1754             TMA    20.0\n",
       "3         AAA             2013J          1755             TMA    20.0\n",
       "4         AAA             2013J          1756             TMA    30.0"
      ]
     },
     "execution_count": 12,
     "metadata": {},
     "output_type": "execute_result"
    }
   ],
   "source": [
    "df_assess.head()"
   ]
  },
  {
   "cell_type": "code",
   "execution_count": 13,
   "id": "a3cb9f0f",
   "metadata": {},
   "outputs": [
    {
     "name": "stdout",
     "output_type": "stream",
     "text": [
      "<class 'pandas.core.frame.DataFrame'>\n",
      "RangeIndex: 206 entries, 0 to 205\n",
      "Data columns (total 5 columns):\n",
      " #   Column             Non-Null Count  Dtype  \n",
      "---  ------             --------------  -----  \n",
      " 0   code_module        206 non-null    object \n",
      " 1   code_presentation  206 non-null    object \n",
      " 2   id_assessment      206 non-null    string \n",
      " 3   assessment_type    206 non-null    object \n",
      " 4   weight             206 non-null    float64\n",
      "dtypes: float64(1), object(3), string(1)\n",
      "memory usage: 8.2+ KB\n"
     ]
    }
   ],
   "source": [
    "df_assess.info()"
   ]
  },
  {
   "cell_type": "markdown",
   "id": "cf834b64",
   "metadata": {},
   "source": [
    "#### Tabel Courses"
   ]
  },
  {
   "cell_type": "code",
   "execution_count": 14,
   "id": "016cf9db",
   "metadata": {},
   "outputs": [
    {
     "data": {
      "text/html": [
       "<div>\n",
       "<style scoped>\n",
       "    .dataframe tbody tr th:only-of-type {\n",
       "        vertical-align: middle;\n",
       "    }\n",
       "\n",
       "    .dataframe tbody tr th {\n",
       "        vertical-align: top;\n",
       "    }\n",
       "\n",
       "    .dataframe thead th {\n",
       "        text-align: right;\n",
       "    }\n",
       "</style>\n",
       "<table border=\"1\" class=\"dataframe\">\n",
       "  <thead>\n",
       "    <tr style=\"text-align: right;\">\n",
       "      <th></th>\n",
       "      <th>Column</th>\n",
       "      <th>Null Values</th>\n",
       "    </tr>\n",
       "  </thead>\n",
       "  <tbody>\n",
       "    <tr>\n",
       "      <th>0</th>\n",
       "      <td>code_module</td>\n",
       "      <td>0</td>\n",
       "    </tr>\n",
       "    <tr>\n",
       "      <th>1</th>\n",
       "      <td>code_presentation</td>\n",
       "      <td>0</td>\n",
       "    </tr>\n",
       "    <tr>\n",
       "      <th>2</th>\n",
       "      <td>module_presentation_length</td>\n",
       "      <td>0</td>\n",
       "    </tr>\n",
       "  </tbody>\n",
       "</table>\n",
       "</div>"
      ],
      "text/plain": [
       "                       Column  Null Values\n",
       "0                 code_module            0\n",
       "1           code_presentation            0\n",
       "2  module_presentation_length            0"
      ]
     },
     "execution_count": 14,
     "metadata": {},
     "output_type": "execute_result"
    }
   ],
   "source": [
    "null_value2 = pd.DataFrame(df_courses.isnull().sum().sort_values(ascending=False)).reset_index()\n",
    "null_value2.columns = ['Column','Null Values']\n",
    "null_value2"
   ]
  },
  {
   "cell_type": "markdown",
   "id": "e90dd412",
   "metadata": {},
   "source": [
    "#### Tabel Student Assessments"
   ]
  },
  {
   "cell_type": "code",
   "execution_count": 15,
   "id": "e2ecec23",
   "metadata": {},
   "outputs": [
    {
     "data": {
      "text/html": [
       "<div>\n",
       "<style scoped>\n",
       "    .dataframe tbody tr th:only-of-type {\n",
       "        vertical-align: middle;\n",
       "    }\n",
       "\n",
       "    .dataframe tbody tr th {\n",
       "        vertical-align: top;\n",
       "    }\n",
       "\n",
       "    .dataframe thead th {\n",
       "        text-align: right;\n",
       "    }\n",
       "</style>\n",
       "<table border=\"1\" class=\"dataframe\">\n",
       "  <thead>\n",
       "    <tr style=\"text-align: right;\">\n",
       "      <th></th>\n",
       "      <th>Column</th>\n",
       "      <th>Null Values</th>\n",
       "    </tr>\n",
       "  </thead>\n",
       "  <tbody>\n",
       "    <tr>\n",
       "      <th>0</th>\n",
       "      <td>score</td>\n",
       "      <td>173</td>\n",
       "    </tr>\n",
       "    <tr>\n",
       "      <th>1</th>\n",
       "      <td>id_assessment</td>\n",
       "      <td>0</td>\n",
       "    </tr>\n",
       "    <tr>\n",
       "      <th>2</th>\n",
       "      <td>id_student</td>\n",
       "      <td>0</td>\n",
       "    </tr>\n",
       "    <tr>\n",
       "      <th>3</th>\n",
       "      <td>date_submitted</td>\n",
       "      <td>0</td>\n",
       "    </tr>\n",
       "    <tr>\n",
       "      <th>4</th>\n",
       "      <td>is_banked</td>\n",
       "      <td>0</td>\n",
       "    </tr>\n",
       "  </tbody>\n",
       "</table>\n",
       "</div>"
      ],
      "text/plain": [
       "           Column  Null Values\n",
       "0           score          173\n",
       "1   id_assessment            0\n",
       "2      id_student            0\n",
       "3  date_submitted            0\n",
       "4       is_banked            0"
      ]
     },
     "execution_count": 15,
     "metadata": {},
     "output_type": "execute_result"
    }
   ],
   "source": [
    "null_value3 = pd.DataFrame(df_studAssess.isnull().sum().sort_values(ascending=False)).reset_index()\n",
    "null_value3.columns = ['Column','Null Values']\n",
    "null_value3"
   ]
  },
  {
   "cell_type": "code",
   "execution_count": 16,
   "id": "efd956dc",
   "metadata": {},
   "outputs": [
    {
     "name": "stdout",
     "output_type": "stream",
     "text": [
      "       id_assessment id_student  score\n",
      "215             1752     721259    NaN\n",
      "937             1754     260355    NaN\n",
      "2364            1760    2606802    NaN\n",
      "3358           14984     186780    NaN\n",
      "3914           14984     531205    NaN\n",
      "...              ...        ...    ...\n",
      "148929         34903     582670    NaN\n",
      "159251         37415     610738    NaN\n",
      "166390         37427     631786    NaN\n",
      "169725         37435     648110    NaN\n",
      "170103         37435     480914    NaN\n",
      "\n",
      "[173 rows x 3 columns]\n"
     ]
    }
   ],
   "source": [
    "df3 = pd.DataFrame(df_studAssess, columns=['id_assessment','id_student','score'])\n",
    "nan_values3 = df3[df3['score'].isnull()]\n",
    "\n",
    "print (nan_values3)"
   ]
  },
  {
   "cell_type": "markdown",
   "id": "d9567700",
   "metadata": {},
   "source": [
    "#### Tabel Student Info"
   ]
  },
  {
   "cell_type": "code",
   "execution_count": 17,
   "id": "171e37c2",
   "metadata": {},
   "outputs": [
    {
     "data": {
      "text/html": [
       "<div>\n",
       "<style scoped>\n",
       "    .dataframe tbody tr th:only-of-type {\n",
       "        vertical-align: middle;\n",
       "    }\n",
       "\n",
       "    .dataframe tbody tr th {\n",
       "        vertical-align: top;\n",
       "    }\n",
       "\n",
       "    .dataframe thead th {\n",
       "        text-align: right;\n",
       "    }\n",
       "</style>\n",
       "<table border=\"1\" class=\"dataframe\">\n",
       "  <thead>\n",
       "    <tr style=\"text-align: right;\">\n",
       "      <th></th>\n",
       "      <th>Column</th>\n",
       "      <th>Null Values</th>\n",
       "    </tr>\n",
       "  </thead>\n",
       "  <tbody>\n",
       "    <tr>\n",
       "      <th>0</th>\n",
       "      <td>imd_band</td>\n",
       "      <td>1111</td>\n",
       "    </tr>\n",
       "    <tr>\n",
       "      <th>1</th>\n",
       "      <td>code_module</td>\n",
       "      <td>0</td>\n",
       "    </tr>\n",
       "    <tr>\n",
       "      <th>2</th>\n",
       "      <td>code_presentation</td>\n",
       "      <td>0</td>\n",
       "    </tr>\n",
       "    <tr>\n",
       "      <th>3</th>\n",
       "      <td>id_student</td>\n",
       "      <td>0</td>\n",
       "    </tr>\n",
       "    <tr>\n",
       "      <th>4</th>\n",
       "      <td>gender</td>\n",
       "      <td>0</td>\n",
       "    </tr>\n",
       "    <tr>\n",
       "      <th>5</th>\n",
       "      <td>region</td>\n",
       "      <td>0</td>\n",
       "    </tr>\n",
       "    <tr>\n",
       "      <th>6</th>\n",
       "      <td>highest_education</td>\n",
       "      <td>0</td>\n",
       "    </tr>\n",
       "    <tr>\n",
       "      <th>7</th>\n",
       "      <td>age_band</td>\n",
       "      <td>0</td>\n",
       "    </tr>\n",
       "    <tr>\n",
       "      <th>8</th>\n",
       "      <td>num_of_prev_attempts</td>\n",
       "      <td>0</td>\n",
       "    </tr>\n",
       "    <tr>\n",
       "      <th>9</th>\n",
       "      <td>studied_credits</td>\n",
       "      <td>0</td>\n",
       "    </tr>\n",
       "    <tr>\n",
       "      <th>10</th>\n",
       "      <td>disability</td>\n",
       "      <td>0</td>\n",
       "    </tr>\n",
       "    <tr>\n",
       "      <th>11</th>\n",
       "      <td>final_result</td>\n",
       "      <td>0</td>\n",
       "    </tr>\n",
       "  </tbody>\n",
       "</table>\n",
       "</div>"
      ],
      "text/plain": [
       "                  Column  Null Values\n",
       "0               imd_band         1111\n",
       "1            code_module            0\n",
       "2      code_presentation            0\n",
       "3             id_student            0\n",
       "4                 gender            0\n",
       "5                 region            0\n",
       "6      highest_education            0\n",
       "7               age_band            0\n",
       "8   num_of_prev_attempts            0\n",
       "9        studied_credits            0\n",
       "10            disability            0\n",
       "11          final_result            0"
      ]
     },
     "execution_count": 17,
     "metadata": {},
     "output_type": "execute_result"
    }
   ],
   "source": [
    "null_value4 = pd.DataFrame(df_studInfo.isnull().sum().sort_values(ascending=False)).reset_index()\n",
    "null_value4.columns = ['Column','Null Values']\n",
    "null_value4"
   ]
  },
  {
   "cell_type": "code",
   "execution_count": 18,
   "id": "fc5ab517",
   "metadata": {},
   "outputs": [
    {
     "name": "stdout",
     "output_type": "stream",
     "text": [
      "      id_student                region imd_band\n",
      "9          53025          North Region      NaN\n",
      "17         71361               Ireland      NaN\n",
      "28        104476               Ireland      NaN\n",
      "34        114017          North Region      NaN\n",
      "65        172112               Ireland      NaN\n",
      "...          ...                   ...      ...\n",
      "30552     589914          North Region      NaN\n",
      "31170     575199  North Western Region      NaN\n",
      "31389     617889     South West Region      NaN\n",
      "31777     634470          South Region      NaN\n",
      "32397     683974          North Region      NaN\n",
      "\n",
      "[1111 rows x 3 columns]\n"
     ]
    }
   ],
   "source": [
    "df4 = pd.DataFrame(df_studInfo, columns=['id_student','region','imd_band'])\n",
    "nan_values4 = df4[df4['imd_band'].isnull()]\n",
    "\n",
    "print (nan_values4)"
   ]
  },
  {
   "cell_type": "markdown",
   "id": "c489e270",
   "metadata": {},
   "source": [
    "Pencarian IMD (Index of Multiple Deprivation) tidak mungkin dilakukan tanpa mengetahui area tempat tinggal student yang lebih spesifik. Maka, kolom yang null (dibiarkan/di-drop)"
   ]
  },
  {
   "cell_type": "markdown",
   "id": "43d9dfea",
   "metadata": {},
   "source": [
    "#### Tabel Student Registration"
   ]
  },
  {
   "cell_type": "code",
   "execution_count": 19,
   "id": "d310cd50",
   "metadata": {},
   "outputs": [
    {
     "data": {
      "text/html": [
       "<div>\n",
       "<style scoped>\n",
       "    .dataframe tbody tr th:only-of-type {\n",
       "        vertical-align: middle;\n",
       "    }\n",
       "\n",
       "    .dataframe tbody tr th {\n",
       "        vertical-align: top;\n",
       "    }\n",
       "\n",
       "    .dataframe thead th {\n",
       "        text-align: right;\n",
       "    }\n",
       "</style>\n",
       "<table border=\"1\" class=\"dataframe\">\n",
       "  <thead>\n",
       "    <tr style=\"text-align: right;\">\n",
       "      <th></th>\n",
       "      <th>Column</th>\n",
       "      <th>Null Values</th>\n",
       "    </tr>\n",
       "  </thead>\n",
       "  <tbody>\n",
       "    <tr>\n",
       "      <th>0</th>\n",
       "      <td>date_unregistration</td>\n",
       "      <td>22521</td>\n",
       "    </tr>\n",
       "    <tr>\n",
       "      <th>1</th>\n",
       "      <td>date_registration</td>\n",
       "      <td>45</td>\n",
       "    </tr>\n",
       "    <tr>\n",
       "      <th>2</th>\n",
       "      <td>code_module</td>\n",
       "      <td>0</td>\n",
       "    </tr>\n",
       "    <tr>\n",
       "      <th>3</th>\n",
       "      <td>code_presentation</td>\n",
       "      <td>0</td>\n",
       "    </tr>\n",
       "    <tr>\n",
       "      <th>4</th>\n",
       "      <td>id_student</td>\n",
       "      <td>0</td>\n",
       "    </tr>\n",
       "  </tbody>\n",
       "</table>\n",
       "</div>"
      ],
      "text/plain": [
       "                Column  Null Values\n",
       "0  date_unregistration        22521\n",
       "1    date_registration           45\n",
       "2          code_module            0\n",
       "3    code_presentation            0\n",
       "4           id_student            0"
      ]
     },
     "execution_count": 19,
     "metadata": {},
     "output_type": "execute_result"
    }
   ],
   "source": [
    "null_value5 = pd.DataFrame(df_studReg.isnull().sum().sort_values(ascending=False)).reset_index()\n",
    "null_value5.columns = ['Column','Null Values']\n",
    "null_value5"
   ]
  },
  {
   "cell_type": "code",
   "execution_count": 20,
   "id": "ebdf6208",
   "metadata": {
    "scrolled": true
   },
   "outputs": [
    {
     "name": "stdout",
     "output_type": "stream",
     "text": [
      "      id_student code_module  date_unregistration\n",
      "0          11391         AAA                  NaN\n",
      "1          28400         AAA                  NaN\n",
      "3          31604         AAA                  NaN\n",
      "4          32885         AAA                  NaN\n",
      "5          38053         AAA                  NaN\n",
      "...          ...         ...                  ...\n",
      "32587    2620947         GGG                  NaN\n",
      "32588    2640965         GGG                  NaN\n",
      "32589    2645731         GGG                  NaN\n",
      "32590    2648187         GGG                  NaN\n",
      "32592    2684003         GGG                  NaN\n",
      "\n",
      "[22521 rows x 3 columns]\n"
     ]
    }
   ],
   "source": [
    "df5 = pd.DataFrame(df_studReg, columns=['id_student','code_module','date_unregistration'])\n",
    "nan_values5 = df5[df5['date_unregistration'].isnull()]\n",
    "\n",
    "print (nan_values5)"
   ]
  },
  {
   "cell_type": "markdown",
   "id": "877be951",
   "metadata": {},
   "source": [
    "Menurut deskripsi dataset, 'date_unregistration' yang kosong berarti student telah menyelesaikan modul. Kolom tersebut bisa dibiarkan saja."
   ]
  },
  {
   "cell_type": "markdown",
   "id": "8f0ca91b",
   "metadata": {},
   "source": [
    "#### Tabel Student VLE"
   ]
  },
  {
   "cell_type": "code",
   "execution_count": 21,
   "id": "de61438e",
   "metadata": {},
   "outputs": [
    {
     "data": {
      "text/html": [
       "<div>\n",
       "<style scoped>\n",
       "    .dataframe tbody tr th:only-of-type {\n",
       "        vertical-align: middle;\n",
       "    }\n",
       "\n",
       "    .dataframe tbody tr th {\n",
       "        vertical-align: top;\n",
       "    }\n",
       "\n",
       "    .dataframe thead th {\n",
       "        text-align: right;\n",
       "    }\n",
       "</style>\n",
       "<table border=\"1\" class=\"dataframe\">\n",
       "  <thead>\n",
       "    <tr style=\"text-align: right;\">\n",
       "      <th></th>\n",
       "      <th>Column</th>\n",
       "      <th>Null Values</th>\n",
       "    </tr>\n",
       "  </thead>\n",
       "  <tbody>\n",
       "    <tr>\n",
       "      <th>0</th>\n",
       "      <td>code_module</td>\n",
       "      <td>0</td>\n",
       "    </tr>\n",
       "    <tr>\n",
       "      <th>1</th>\n",
       "      <td>code_presentation</td>\n",
       "      <td>0</td>\n",
       "    </tr>\n",
       "    <tr>\n",
       "      <th>2</th>\n",
       "      <td>id_student</td>\n",
       "      <td>0</td>\n",
       "    </tr>\n",
       "    <tr>\n",
       "      <th>3</th>\n",
       "      <td>id_site</td>\n",
       "      <td>0</td>\n",
       "    </tr>\n",
       "    <tr>\n",
       "      <th>4</th>\n",
       "      <td>date</td>\n",
       "      <td>0</td>\n",
       "    </tr>\n",
       "    <tr>\n",
       "      <th>5</th>\n",
       "      <td>sum_click</td>\n",
       "      <td>0</td>\n",
       "    </tr>\n",
       "  </tbody>\n",
       "</table>\n",
       "</div>"
      ],
      "text/plain": [
       "              Column  Null Values\n",
       "0        code_module            0\n",
       "1  code_presentation            0\n",
       "2         id_student            0\n",
       "3            id_site            0\n",
       "4               date            0\n",
       "5          sum_click            0"
      ]
     },
     "execution_count": 21,
     "metadata": {},
     "output_type": "execute_result"
    }
   ],
   "source": [
    "null_value6 = pd.DataFrame(df_studVle.isnull().sum().sort_values(ascending=False)).reset_index()\n",
    "null_value6.columns = ['Column','Null Values']\n",
    "null_value6"
   ]
  },
  {
   "cell_type": "markdown",
   "id": "fd657135",
   "metadata": {},
   "source": [
    "#### Tabel VLE"
   ]
  },
  {
   "cell_type": "code",
   "execution_count": 22,
   "id": "bff9d541",
   "metadata": {},
   "outputs": [
    {
     "data": {
      "text/html": [
       "<div>\n",
       "<style scoped>\n",
       "    .dataframe tbody tr th:only-of-type {\n",
       "        vertical-align: middle;\n",
       "    }\n",
       "\n",
       "    .dataframe tbody tr th {\n",
       "        vertical-align: top;\n",
       "    }\n",
       "\n",
       "    .dataframe thead th {\n",
       "        text-align: right;\n",
       "    }\n",
       "</style>\n",
       "<table border=\"1\" class=\"dataframe\">\n",
       "  <thead>\n",
       "    <tr style=\"text-align: right;\">\n",
       "      <th></th>\n",
       "      <th>Column</th>\n",
       "      <th>Null Values</th>\n",
       "    </tr>\n",
       "  </thead>\n",
       "  <tbody>\n",
       "    <tr>\n",
       "      <th>0</th>\n",
       "      <td>week_from</td>\n",
       "      <td>5243</td>\n",
       "    </tr>\n",
       "    <tr>\n",
       "      <th>1</th>\n",
       "      <td>week_to</td>\n",
       "      <td>5243</td>\n",
       "    </tr>\n",
       "    <tr>\n",
       "      <th>2</th>\n",
       "      <td>id_site</td>\n",
       "      <td>0</td>\n",
       "    </tr>\n",
       "    <tr>\n",
       "      <th>3</th>\n",
       "      <td>code_module</td>\n",
       "      <td>0</td>\n",
       "    </tr>\n",
       "    <tr>\n",
       "      <th>4</th>\n",
       "      <td>code_presentation</td>\n",
       "      <td>0</td>\n",
       "    </tr>\n",
       "    <tr>\n",
       "      <th>5</th>\n",
       "      <td>activity_type</td>\n",
       "      <td>0</td>\n",
       "    </tr>\n",
       "  </tbody>\n",
       "</table>\n",
       "</div>"
      ],
      "text/plain": [
       "              Column  Null Values\n",
       "0          week_from         5243\n",
       "1            week_to         5243\n",
       "2            id_site            0\n",
       "3        code_module            0\n",
       "4  code_presentation            0\n",
       "5      activity_type            0"
      ]
     },
     "execution_count": 22,
     "metadata": {},
     "output_type": "execute_result"
    }
   ],
   "source": [
    "null_value7 = pd.DataFrame(df_vle.isnull().sum().sort_values(ascending=False)).reset_index()\n",
    "null_value7.columns = ['Column','Null Values']\n",
    "null_value7"
   ]
  },
  {
   "cell_type": "code",
   "execution_count": 23,
   "id": "a1e0c3c4",
   "metadata": {},
   "outputs": [
    {
     "data": {
      "text/plain": [
       "(6364, 6)"
      ]
     },
     "execution_count": 23,
     "metadata": {},
     "output_type": "execute_result"
    }
   ],
   "source": [
    "df_vle.shape"
   ]
  },
  {
   "cell_type": "code",
   "execution_count": 24,
   "id": "89494dd8",
   "metadata": {},
   "outputs": [
    {
     "name": "stdout",
     "output_type": "stream",
     "text": [
      "<class 'pandas.core.frame.DataFrame'>\n",
      "RangeIndex: 6364 entries, 0 to 6363\n",
      "Data columns (total 4 columns):\n",
      " #   Column             Non-Null Count  Dtype \n",
      "---  ------             --------------  ----- \n",
      " 0   id_site            6364 non-null   string\n",
      " 1   code_module        6364 non-null   object\n",
      " 2   code_presentation  6364 non-null   object\n",
      " 3   activity_type      6364 non-null   object\n",
      "dtypes: object(3), string(1)\n",
      "memory usage: 199.0+ KB\n"
     ]
    }
   ],
   "source": [
    "df_vle = df_vle.drop(columns=['week_from','week_to'])\n",
    "df_vle.info()"
   ]
  },
  {
   "cell_type": "markdown",
   "id": "e0b2cd18",
   "metadata": {},
   "source": [
    "Kolom 'week_from' dan 'week_to' di-drop karena tidak memberikan insight yang dapat digunakan."
   ]
  },
  {
   "cell_type": "code",
   "execution_count": 64,
   "id": "01193ef1",
   "metadata": {},
   "outputs": [
    {
     "name": "stderr",
     "output_type": "stream",
     "text": [
      "Deleting existing \"Unnamed\" session to create the new one.\n"
     ]
    }
   ],
   "source": [
    "session = tt.Session()"
   ]
  },
  {
   "cell_type": "code",
   "execution_count": 65,
   "id": "84048a03",
   "metadata": {},
   "outputs": [
    {
     "data": {
      "text/html": [
       "<div>\n",
       "<style scoped>\n",
       "    .dataframe tbody tr th:only-of-type {\n",
       "        vertical-align: middle;\n",
       "    }\n",
       "\n",
       "    .dataframe tbody tr th {\n",
       "        vertical-align: top;\n",
       "    }\n",
       "\n",
       "    .dataframe thead th {\n",
       "        text-align: right;\n",
       "    }\n",
       "</style>\n",
       "<table border=\"1\" class=\"dataframe\">\n",
       "  <thead>\n",
       "    <tr style=\"text-align: right;\">\n",
       "      <th></th>\n",
       "      <th>code_module</th>\n",
       "      <th>code_presentation</th>\n",
       "      <th>id_assessment</th>\n",
       "      <th>assessment_type</th>\n",
       "      <th>weight</th>\n",
       "    </tr>\n",
       "  </thead>\n",
       "  <tbody>\n",
       "    <tr>\n",
       "      <th>0</th>\n",
       "      <td>AAA</td>\n",
       "      <td>2013J</td>\n",
       "      <td>1752</td>\n",
       "      <td>TMA</td>\n",
       "      <td>10.0</td>\n",
       "    </tr>\n",
       "    <tr>\n",
       "      <th>1</th>\n",
       "      <td>AAA</td>\n",
       "      <td>2013J</td>\n",
       "      <td>1754</td>\n",
       "      <td>TMA</td>\n",
       "      <td>20.0</td>\n",
       "    </tr>\n",
       "    <tr>\n",
       "      <th>2</th>\n",
       "      <td>AAA</td>\n",
       "      <td>2014J</td>\n",
       "      <td>1758</td>\n",
       "      <td>TMA</td>\n",
       "      <td>10.0</td>\n",
       "    </tr>\n",
       "    <tr>\n",
       "      <th>3</th>\n",
       "      <td>BBB</td>\n",
       "      <td>2013B</td>\n",
       "      <td>14985</td>\n",
       "      <td>TMA</td>\n",
       "      <td>18.0</td>\n",
       "    </tr>\n",
       "    <tr>\n",
       "      <th>4</th>\n",
       "      <td>BBB</td>\n",
       "      <td>2013B</td>\n",
       "      <td>14987</td>\n",
       "      <td>TMA</td>\n",
       "      <td>18.0</td>\n",
       "    </tr>\n",
       "  </tbody>\n",
       "</table>\n",
       "</div>"
      ],
      "text/plain": [
       "  code_module code_presentation id_assessment assessment_type  weight\n",
       "0         AAA             2013J          1752             TMA    10.0\n",
       "1         AAA             2013J          1754             TMA    20.0\n",
       "2         AAA             2014J          1758             TMA    10.0\n",
       "3         BBB             2013B         14985             TMA    18.0\n",
       "4         BBB             2013B         14987             TMA    18.0"
      ]
     },
     "execution_count": 65,
     "metadata": {},
     "output_type": "execute_result"
    }
   ],
   "source": [
    "assess = session.read_pandas(df_assess, table_name=\"Assessments\")\n",
    "assess.head()"
   ]
  },
  {
   "cell_type": "code",
   "execution_count": 66,
   "id": "647da450",
   "metadata": {},
   "outputs": [
    {
     "data": {
      "text/html": [
       "<div>\n",
       "<style scoped>\n",
       "    .dataframe tbody tr th:only-of-type {\n",
       "        vertical-align: middle;\n",
       "    }\n",
       "\n",
       "    .dataframe tbody tr th {\n",
       "        vertical-align: top;\n",
       "    }\n",
       "\n",
       "    .dataframe thead th {\n",
       "        text-align: right;\n",
       "    }\n",
       "</style>\n",
       "<table border=\"1\" class=\"dataframe\">\n",
       "  <thead>\n",
       "    <tr style=\"text-align: right;\">\n",
       "      <th></th>\n",
       "      <th>code_module</th>\n",
       "      <th>code_presentation</th>\n",
       "      <th>module_presentation_length</th>\n",
       "    </tr>\n",
       "  </thead>\n",
       "  <tbody>\n",
       "    <tr>\n",
       "      <th>0</th>\n",
       "      <td>AAA</td>\n",
       "      <td>2013J</td>\n",
       "      <td>268</td>\n",
       "    </tr>\n",
       "    <tr>\n",
       "      <th>1</th>\n",
       "      <td>EEE</td>\n",
       "      <td>2013J</td>\n",
       "      <td>268</td>\n",
       "    </tr>\n",
       "    <tr>\n",
       "      <th>2</th>\n",
       "      <td>FFF</td>\n",
       "      <td>2014B</td>\n",
       "      <td>241</td>\n",
       "    </tr>\n",
       "    <tr>\n",
       "      <th>3</th>\n",
       "      <td>AAA</td>\n",
       "      <td>2014J</td>\n",
       "      <td>269</td>\n",
       "    </tr>\n",
       "    <tr>\n",
       "      <th>4</th>\n",
       "      <td>BBB</td>\n",
       "      <td>2013J</td>\n",
       "      <td>268</td>\n",
       "    </tr>\n",
       "  </tbody>\n",
       "</table>\n",
       "</div>"
      ],
      "text/plain": [
       "  code_module code_presentation  module_presentation_length\n",
       "0         AAA             2013J                         268\n",
       "1         EEE             2013J                         268\n",
       "2         FFF             2014B                         241\n",
       "3         AAA             2014J                         269\n",
       "4         BBB             2013J                         268"
      ]
     },
     "execution_count": 66,
     "metadata": {},
     "output_type": "execute_result"
    }
   ],
   "source": [
    "courses = session.read_pandas(df_courses, table_name=\"Courses\")\n",
    "courses.head()"
   ]
  },
  {
   "cell_type": "code",
   "execution_count": 67,
   "id": "9da3c778",
   "metadata": {},
   "outputs": [
    {
     "data": {
      "text/html": [
       "<div>\n",
       "<style scoped>\n",
       "    .dataframe tbody tr th:only-of-type {\n",
       "        vertical-align: middle;\n",
       "    }\n",
       "\n",
       "    .dataframe tbody tr th {\n",
       "        vertical-align: top;\n",
       "    }\n",
       "\n",
       "    .dataframe thead th {\n",
       "        text-align: right;\n",
       "    }\n",
       "</style>\n",
       "<table border=\"1\" class=\"dataframe\">\n",
       "  <thead>\n",
       "    <tr style=\"text-align: right;\">\n",
       "      <th></th>\n",
       "      <th>id_assessment</th>\n",
       "      <th>date_submitted</th>\n",
       "      <th>is_banked</th>\n",
       "      <th>score</th>\n",
       "    </tr>\n",
       "    <tr>\n",
       "      <th>id_student</th>\n",
       "      <th></th>\n",
       "      <th></th>\n",
       "      <th></th>\n",
       "      <th></th>\n",
       "    </tr>\n",
       "  </thead>\n",
       "  <tbody>\n",
       "    <tr>\n",
       "      <th>181316</th>\n",
       "      <td>1752</td>\n",
       "      <td>20</td>\n",
       "      <td>0</td>\n",
       "      <td>76.0</td>\n",
       "    </tr>\n",
       "    <tr>\n",
       "      <th>2429854</th>\n",
       "      <td>1752</td>\n",
       "      <td>24</td>\n",
       "      <td>0</td>\n",
       "      <td>51.0</td>\n",
       "    </tr>\n",
       "    <tr>\n",
       "      <th>2344901</th>\n",
       "      <td>1755</td>\n",
       "      <td>166</td>\n",
       "      <td>0</td>\n",
       "      <td>59.0</td>\n",
       "    </tr>\n",
       "    <tr>\n",
       "      <th>705379</th>\n",
       "      <td>1756</td>\n",
       "      <td>213</td>\n",
       "      <td>0</td>\n",
       "      <td>80.0</td>\n",
       "    </tr>\n",
       "    <tr>\n",
       "      <th>1105478</th>\n",
       "      <td>1756</td>\n",
       "      <td>216</td>\n",
       "      <td>0</td>\n",
       "      <td>76.0</td>\n",
       "    </tr>\n",
       "  </tbody>\n",
       "</table>\n",
       "</div>"
      ],
      "text/plain": [
       "           id_assessment  date_submitted  is_banked  score\n",
       "id_student                                                \n",
       "181316              1752              20          0   76.0\n",
       "2429854             1752              24          0   51.0\n",
       "2344901             1755             166          0   59.0\n",
       "705379              1756             213          0   80.0\n",
       "1105478             1756             216          0   76.0"
      ]
     },
     "execution_count": 67,
     "metadata": {},
     "output_type": "execute_result"
    }
   ],
   "source": [
    "studAssess = session.read_pandas(df_studAssess, keys=['id_student'], table_name=\"Student Assessments\")\n",
    "studAssess.head()"
   ]
  },
  {
   "cell_type": "code",
   "execution_count": 68,
   "id": "484dedfe",
   "metadata": {},
   "outputs": [
    {
     "data": {
      "text/html": [
       "<div>\n",
       "<style scoped>\n",
       "    .dataframe tbody tr th:only-of-type {\n",
       "        vertical-align: middle;\n",
       "    }\n",
       "\n",
       "    .dataframe tbody tr th {\n",
       "        vertical-align: top;\n",
       "    }\n",
       "\n",
       "    .dataframe thead th {\n",
       "        text-align: right;\n",
       "    }\n",
       "</style>\n",
       "<table border=\"1\" class=\"dataframe\">\n",
       "  <thead>\n",
       "    <tr style=\"text-align: right;\">\n",
       "      <th></th>\n",
       "      <th>code_module</th>\n",
       "      <th>code_presentation</th>\n",
       "      <th>gender</th>\n",
       "      <th>region</th>\n",
       "      <th>highest_education</th>\n",
       "      <th>imd_band</th>\n",
       "      <th>age_band</th>\n",
       "      <th>num_of_prev_attempts</th>\n",
       "      <th>studied_credits</th>\n",
       "      <th>disability</th>\n",
       "      <th>final_result</th>\n",
       "    </tr>\n",
       "    <tr>\n",
       "      <th>id_student</th>\n",
       "      <th></th>\n",
       "      <th></th>\n",
       "      <th></th>\n",
       "      <th></th>\n",
       "      <th></th>\n",
       "      <th></th>\n",
       "      <th></th>\n",
       "      <th></th>\n",
       "      <th></th>\n",
       "      <th></th>\n",
       "      <th></th>\n",
       "    </tr>\n",
       "  </thead>\n",
       "  <tbody>\n",
       "    <tr>\n",
       "      <th>57506</th>\n",
       "      <td>AAA</td>\n",
       "      <td>2013J</td>\n",
       "      <td>M</td>\n",
       "      <td>South Region</td>\n",
       "      <td>Lower Than A Level</td>\n",
       "      <td>70-80%</td>\n",
       "      <td>35-55</td>\n",
       "      <td>0</td>\n",
       "      <td>60</td>\n",
       "      <td>N</td>\n",
       "      <td>Pass</td>\n",
       "    </tr>\n",
       "    <tr>\n",
       "      <th>114017</th>\n",
       "      <td>AAA</td>\n",
       "      <td>2013J</td>\n",
       "      <td>F</td>\n",
       "      <td>North Region</td>\n",
       "      <td>Post Graduate Qualification</td>\n",
       "      <td>N/A</td>\n",
       "      <td>35-55</td>\n",
       "      <td>0</td>\n",
       "      <td>60</td>\n",
       "      <td>N</td>\n",
       "      <td>Pass</td>\n",
       "    </tr>\n",
       "    <tr>\n",
       "      <th>137873</th>\n",
       "      <td>AAA</td>\n",
       "      <td>2013J</td>\n",
       "      <td>M</td>\n",
       "      <td>South West Region</td>\n",
       "      <td>A Level or Equivalent</td>\n",
       "      <td>40-50%</td>\n",
       "      <td>35-55</td>\n",
       "      <td>0</td>\n",
       "      <td>60</td>\n",
       "      <td>N</td>\n",
       "      <td>Pass</td>\n",
       "    </tr>\n",
       "    <tr>\n",
       "      <th>155854</th>\n",
       "      <td>AAA</td>\n",
       "      <td>2013J</td>\n",
       "      <td>F</td>\n",
       "      <td>East Midlands Region</td>\n",
       "      <td>A Level or Equivalent</td>\n",
       "      <td>20-30%</td>\n",
       "      <td>35-55</td>\n",
       "      <td>0</td>\n",
       "      <td>60</td>\n",
       "      <td>N</td>\n",
       "      <td>Pass</td>\n",
       "    </tr>\n",
       "    <tr>\n",
       "      <th>175991</th>\n",
       "      <td>AAA</td>\n",
       "      <td>2013J</td>\n",
       "      <td>F</td>\n",
       "      <td>North Western Region</td>\n",
       "      <td>A Level or Equivalent</td>\n",
       "      <td>80-90%</td>\n",
       "      <td>0-35</td>\n",
       "      <td>0</td>\n",
       "      <td>180</td>\n",
       "      <td>N</td>\n",
       "      <td>Fail</td>\n",
       "    </tr>\n",
       "  </tbody>\n",
       "</table>\n",
       "</div>"
      ],
      "text/plain": [
       "           code_module code_presentation gender                region  \\\n",
       "id_student                                                              \n",
       "57506              AAA             2013J      M          South Region   \n",
       "114017             AAA             2013J      F          North Region   \n",
       "137873             AAA             2013J      M     South West Region   \n",
       "155854             AAA             2013J      F  East Midlands Region   \n",
       "175991             AAA             2013J      F  North Western Region   \n",
       "\n",
       "                      highest_education imd_band age_band  \\\n",
       "id_student                                                  \n",
       "57506                Lower Than A Level   70-80%    35-55   \n",
       "114017      Post Graduate Qualification      N/A    35-55   \n",
       "137873            A Level or Equivalent   40-50%    35-55   \n",
       "155854            A Level or Equivalent   20-30%    35-55   \n",
       "175991            A Level or Equivalent   80-90%     0-35   \n",
       "\n",
       "            num_of_prev_attempts  studied_credits disability final_result  \n",
       "id_student                                                                 \n",
       "57506                          0               60          N         Pass  \n",
       "114017                         0               60          N         Pass  \n",
       "137873                         0               60          N         Pass  \n",
       "155854                         0               60          N         Pass  \n",
       "175991                         0              180          N         Fail  "
      ]
     },
     "execution_count": 68,
     "metadata": {},
     "output_type": "execute_result"
    }
   ],
   "source": [
    "studInfo = session.read_pandas(df_studInfo, keys=['id_student'], table_name=\"Student Info\")\n",
    "studInfo.head()"
   ]
  },
  {
   "cell_type": "code",
   "execution_count": 69,
   "id": "73b153d6",
   "metadata": {},
   "outputs": [
    {
     "data": {
      "text/html": [
       "<div>\n",
       "<style scoped>\n",
       "    .dataframe tbody tr th:only-of-type {\n",
       "        vertical-align: middle;\n",
       "    }\n",
       "\n",
       "    .dataframe tbody tr th {\n",
       "        vertical-align: top;\n",
       "    }\n",
       "\n",
       "    .dataframe thead th {\n",
       "        text-align: right;\n",
       "    }\n",
       "</style>\n",
       "<table border=\"1\" class=\"dataframe\">\n",
       "  <thead>\n",
       "    <tr style=\"text-align: right;\">\n",
       "      <th></th>\n",
       "      <th>code_module</th>\n",
       "      <th>code_presentation</th>\n",
       "      <th>id_student</th>\n",
       "      <th>date_registration</th>\n",
       "      <th>date_unregistration</th>\n",
       "    </tr>\n",
       "  </thead>\n",
       "  <tbody>\n",
       "    <tr>\n",
       "      <th>0</th>\n",
       "      <td>AAA</td>\n",
       "      <td>2013J</td>\n",
       "      <td>11391</td>\n",
       "      <td>-159.0</td>\n",
       "      <td>NaN</td>\n",
       "    </tr>\n",
       "    <tr>\n",
       "      <th>1</th>\n",
       "      <td>AAA</td>\n",
       "      <td>2013J</td>\n",
       "      <td>28400</td>\n",
       "      <td>-53.0</td>\n",
       "      <td>NaN</td>\n",
       "    </tr>\n",
       "    <tr>\n",
       "      <th>2</th>\n",
       "      <td>AAA</td>\n",
       "      <td>2013J</td>\n",
       "      <td>31604</td>\n",
       "      <td>-52.0</td>\n",
       "      <td>NaN</td>\n",
       "    </tr>\n",
       "    <tr>\n",
       "      <th>3</th>\n",
       "      <td>AAA</td>\n",
       "      <td>2013J</td>\n",
       "      <td>45462</td>\n",
       "      <td>-67.0</td>\n",
       "      <td>NaN</td>\n",
       "    </tr>\n",
       "    <tr>\n",
       "      <th>4</th>\n",
       "      <td>AAA</td>\n",
       "      <td>2013J</td>\n",
       "      <td>63400</td>\n",
       "      <td>-67.0</td>\n",
       "      <td>NaN</td>\n",
       "    </tr>\n",
       "  </tbody>\n",
       "</table>\n",
       "</div>"
      ],
      "text/plain": [
       "  code_module code_presentation id_student  date_registration  \\\n",
       "0         AAA             2013J      11391             -159.0   \n",
       "1         AAA             2013J      28400              -53.0   \n",
       "2         AAA             2013J      31604              -52.0   \n",
       "3         AAA             2013J      45462              -67.0   \n",
       "4         AAA             2013J      63400              -67.0   \n",
       "\n",
       "   date_unregistration  \n",
       "0                  NaN  \n",
       "1                  NaN  \n",
       "2                  NaN  \n",
       "3                  NaN  \n",
       "4                  NaN  "
      ]
     },
     "execution_count": 69,
     "metadata": {},
     "output_type": "execute_result"
    }
   ],
   "source": [
    "studReg = session.read_pandas(df_studReg, table_name=\"Student Registration\")\n",
    "studReg.head()"
   ]
  },
  {
   "cell_type": "code",
   "execution_count": 70,
   "id": "d81268de",
   "metadata": {},
   "outputs": [
    {
     "data": {
      "text/html": [
       "<div>\n",
       "<style scoped>\n",
       "    .dataframe tbody tr th:only-of-type {\n",
       "        vertical-align: middle;\n",
       "    }\n",
       "\n",
       "    .dataframe tbody tr th {\n",
       "        vertical-align: top;\n",
       "    }\n",
       "\n",
       "    .dataframe thead th {\n",
       "        text-align: right;\n",
       "    }\n",
       "</style>\n",
       "<table border=\"1\" class=\"dataframe\">\n",
       "  <thead>\n",
       "    <tr style=\"text-align: right;\">\n",
       "      <th></th>\n",
       "      <th>code_module</th>\n",
       "      <th>code_presentation</th>\n",
       "      <th>id_student</th>\n",
       "      <th>id_site</th>\n",
       "      <th>date</th>\n",
       "      <th>sum_click</th>\n",
       "    </tr>\n",
       "  </thead>\n",
       "  <tbody>\n",
       "    <tr>\n",
       "      <th>0</th>\n",
       "      <td>AAA</td>\n",
       "      <td>2013J</td>\n",
       "      <td>28400</td>\n",
       "      <td>546652</td>\n",
       "      <td>-10</td>\n",
       "      <td>4</td>\n",
       "    </tr>\n",
       "    <tr>\n",
       "      <th>1</th>\n",
       "      <td>AAA</td>\n",
       "      <td>2013J</td>\n",
       "      <td>28400</td>\n",
       "      <td>546652</td>\n",
       "      <td>-10</td>\n",
       "      <td>1</td>\n",
       "    </tr>\n",
       "    <tr>\n",
       "      <th>2</th>\n",
       "      <td>AAA</td>\n",
       "      <td>2013J</td>\n",
       "      <td>28400</td>\n",
       "      <td>546652</td>\n",
       "      <td>-10</td>\n",
       "      <td>1</td>\n",
       "    </tr>\n",
       "    <tr>\n",
       "      <th>3</th>\n",
       "      <td>AAA</td>\n",
       "      <td>2013J</td>\n",
       "      <td>28400</td>\n",
       "      <td>546652</td>\n",
       "      <td>-10</td>\n",
       "      <td>8</td>\n",
       "    </tr>\n",
       "    <tr>\n",
       "      <th>4</th>\n",
       "      <td>AAA</td>\n",
       "      <td>2013J</td>\n",
       "      <td>32885</td>\n",
       "      <td>546719</td>\n",
       "      <td>-10</td>\n",
       "      <td>5</td>\n",
       "    </tr>\n",
       "  </tbody>\n",
       "</table>\n",
       "</div>"
      ],
      "text/plain": [
       "  code_module code_presentation id_student id_site  date  sum_click\n",
       "0         AAA             2013J      28400  546652   -10          4\n",
       "1         AAA             2013J      28400  546652   -10          1\n",
       "2         AAA             2013J      28400  546652   -10          1\n",
       "3         AAA             2013J      28400  546652   -10          8\n",
       "4         AAA             2013J      32885  546719   -10          5"
      ]
     },
     "execution_count": 70,
     "metadata": {},
     "output_type": "execute_result"
    }
   ],
   "source": [
    "studVle = session.read_pandas(df_studVle, table_name=\"Student VLE\")\n",
    "studVle.head()"
   ]
  },
  {
   "cell_type": "code",
   "execution_count": 71,
   "id": "5e5ca1c0",
   "metadata": {},
   "outputs": [
    {
     "data": {
      "text/html": [
       "<div>\n",
       "<style scoped>\n",
       "    .dataframe tbody tr th:only-of-type {\n",
       "        vertical-align: middle;\n",
       "    }\n",
       "\n",
       "    .dataframe tbody tr th {\n",
       "        vertical-align: top;\n",
       "    }\n",
       "\n",
       "    .dataframe thead th {\n",
       "        text-align: right;\n",
       "    }\n",
       "</style>\n",
       "<table border=\"1\" class=\"dataframe\">\n",
       "  <thead>\n",
       "    <tr style=\"text-align: right;\">\n",
       "      <th></th>\n",
       "      <th>id_site</th>\n",
       "      <th>code_module</th>\n",
       "      <th>code_presentation</th>\n",
       "      <th>activity_type</th>\n",
       "    </tr>\n",
       "  </thead>\n",
       "  <tbody>\n",
       "    <tr>\n",
       "      <th>0</th>\n",
       "      <td>546943</td>\n",
       "      <td>AAA</td>\n",
       "      <td>2013J</td>\n",
       "      <td>resource</td>\n",
       "    </tr>\n",
       "    <tr>\n",
       "      <th>1</th>\n",
       "      <td>546678</td>\n",
       "      <td>AAA</td>\n",
       "      <td>2013J</td>\n",
       "      <td>oucontent</td>\n",
       "    </tr>\n",
       "    <tr>\n",
       "      <th>2</th>\n",
       "      <td>546920</td>\n",
       "      <td>AAA</td>\n",
       "      <td>2013J</td>\n",
       "      <td>resource</td>\n",
       "    </tr>\n",
       "    <tr>\n",
       "      <th>3</th>\n",
       "      <td>546692</td>\n",
       "      <td>AAA</td>\n",
       "      <td>2013J</td>\n",
       "      <td>oucontent</td>\n",
       "    </tr>\n",
       "    <tr>\n",
       "      <th>4</th>\n",
       "      <td>546914</td>\n",
       "      <td>AAA</td>\n",
       "      <td>2013J</td>\n",
       "      <td>resource</td>\n",
       "    </tr>\n",
       "  </tbody>\n",
       "</table>\n",
       "</div>"
      ],
      "text/plain": [
       "  id_site code_module code_presentation activity_type\n",
       "0  546943         AAA             2013J      resource\n",
       "1  546678         AAA             2013J     oucontent\n",
       "2  546920         AAA             2013J      resource\n",
       "3  546692         AAA             2013J     oucontent\n",
       "4  546914         AAA             2013J      resource"
      ]
     },
     "execution_count": 71,
     "metadata": {},
     "output_type": "execute_result"
    }
   ],
   "source": [
    "vle = session.read_pandas(df_vle, table_name=\"VLE\")\n",
    "vle.head()"
   ]
  },
  {
   "cell_type": "code",
   "execution_count": 72,
   "id": "ef074ed7",
   "metadata": {},
   "outputs": [
    {
     "data": {
      "application/json": {
       "Dimensions": {
        "Student Assessments": {
         "id_assessment": [
          "id_assessment"
         ]
        },
        "Student Info": {
         "age_band": [
          "age_band"
         ],
         "code_module": [
          "code_module"
         ],
         "code_presentation": [
          "code_presentation"
         ],
         "disability": [
          "disability"
         ],
         "final_result": [
          "final_result"
         ],
         "gender": [
          "gender"
         ],
         "highest_education": [
          "highest_education"
         ],
         "id_student": [
          "id_student"
         ],
         "imd_band": [
          "imd_band"
         ],
         "region": [
          "region"
         ]
        }
       },
       "Measures": {
        "contributors.COUNT": {
         "formatter": "INT[#,###]"
        },
        "num_of_prev_attempts.MEAN": {
         "formatter": "DOUBLE[#,###.00]"
        },
        "num_of_prev_attempts.SUM": {
         "formatter": "INT[#,###]"
        },
        "studied_credits.MEAN": {
         "formatter": "DOUBLE[#,###.00]"
        },
        "studied_credits.SUM": {
         "formatter": "INT[#,###]"
        }
       }
      },
      "text/html": [
       "<ul>\n",
       "<li>Student Data\n",
       "  <ul>\n",
       "  <li>Dimensions\n",
       "    <ul>\n",
       "    <li>Student Assessments\n",
       "      <ul>\n",
       "      <li>id_assessment\n",
       "        <ol>\n",
       "        <li>id_assessment</li>\n",
       "        </ol>      </li>\n",
       "      </ul>\n",
       "    </li>\n",
       "    <li>Student Info\n",
       "      <ul>\n",
       "      <li>age_band\n",
       "        <ol>\n",
       "        <li>age_band</li>\n",
       "        </ol>      </li>\n",
       "      <li>code_module\n",
       "        <ol>\n",
       "        <li>code_module</li>\n",
       "        </ol>      </li>\n",
       "      <li>code_presentation\n",
       "        <ol>\n",
       "        <li>code_presentation</li>\n",
       "        </ol>      </li>\n",
       "      <li>disability\n",
       "        <ol>\n",
       "        <li>disability</li>\n",
       "        </ol>      </li>\n",
       "      <li>final_result\n",
       "        <ol>\n",
       "        <li>final_result</li>\n",
       "        </ol>      </li>\n",
       "      <li>gender\n",
       "        <ol>\n",
       "        <li>gender</li>\n",
       "        </ol>      </li>\n",
       "      <li>highest_education\n",
       "        <ol>\n",
       "        <li>highest_education</li>\n",
       "        </ol>      </li>\n",
       "      <li>id_student\n",
       "        <ol>\n",
       "        <li>id_student</li>\n",
       "        </ol>      </li>\n",
       "      <li>imd_band\n",
       "        <ol>\n",
       "        <li>imd_band</li>\n",
       "        </ol>      </li>\n",
       "      <li>region\n",
       "        <ol>\n",
       "        <li>region</li>\n",
       "        </ol>      </li>\n",
       "      </ul>\n",
       "    </li>\n",
       "    </ul>\n",
       "  </li>\n",
       "  <li>Measures\n",
       "    <ul>\n",
       "    <li>contributors.COUNT\n",
       "      <ul>\n",
       "      <li>formatter: INT[#,###]</li>\n",
       "      </ul>\n",
       "    </li>\n",
       "    <li>num_of_prev_attempts.MEAN\n",
       "      <ul>\n",
       "      <li>formatter: DOUBLE[#,###.00]</li>\n",
       "      </ul>\n",
       "    </li>\n",
       "    <li>num_of_prev_attempts.SUM\n",
       "      <ul>\n",
       "      <li>formatter: INT[#,###]</li>\n",
       "      </ul>\n",
       "    </li>\n",
       "    <li>studied_credits.MEAN\n",
       "      <ul>\n",
       "      <li>formatter: DOUBLE[#,###.00]</li>\n",
       "      </ul>\n",
       "    </li>\n",
       "    <li>studied_credits.SUM\n",
       "      <ul>\n",
       "      <li>formatter: INT[#,###]</li>\n",
       "      </ul>\n",
       "    </li>\n",
       "    </ul>\n",
       "  </li>\n",
       "  </ul>\n",
       "</li>\n",
       "</ul>\n"
      ],
      "text/plain": [
       "Cube(_name='Student Data', _hierarchies=Hierarchies(_create_hierarchy_from_arguments=<bound method Cube._create_hierarchy_from_arguments of ...>, _cube_name='Student Data'), _measures=Measures())"
      ]
     },
     "execution_count": 72,
     "metadata": {
      "application/json": {
       "expanded": false,
       "root": "Student Data"
      }
     },
     "output_type": "execute_result"
    }
   ],
   "source": [
    "studInfo.join(studAssess, mapping={'id_student': 'id_student'})\n",
    "\n",
    "cube = session.create_cube(studInfo, \"Student Data\")\n",
    "h, l, m = cube.hierarchies, cube.levels, cube.measures\n",
    "cube"
   ]
  },
  {
   "cell_type": "code",
   "execution_count": 73,
   "id": "0d697886",
   "metadata": {},
   "outputs": [
    {
     "data": {
      "image/svg+xml": [
       "<svg xmlns=\"http://www.w3.org/2000/svg\" xmlns:xlink=\"http://www.w3.org/1999/xlink\" width=\"637px\" height=\"330px\" viewBox=\"0.00 0.00 637.00 330.00\">\n",
       "<g id=\"graph0\" class=\"graph\" transform=\"scale(1.0 1.0) rotate(0) translate(4 326)\">\n",
       "<title>Student Data schema</title>\n",
       "<polygon fill=\"white\" stroke=\"none\" points=\"-4,4 -4,-326 633,-326 633,4 -4,4\"/>\n",
       "<!-- Student Info -->\n",
       "<g id=\"node1\" class=\"node\">\n",
       "<title>Student Info</title>\n",
       "<text text-anchor=\"start\" x=\"82.5\" y=\"-302.6\" font-family=\"-apple-system, BlinkMacSystemFont, 'Segoe UI', Helvetica, Arial, sans-serif, 'Apple Color Emoji', 'Segoe UI Emoji', 'Segoe UI Symbol'\" font-weight=\"bold\" font-size=\"13.00\">Student Info</text>\n",
       "<polygon fill=\"#f5f5f5\" stroke=\"none\" points=\"9,-269 9,-293 42,-293 42,-269 9,-269\"/>\n",
       "<polygon fill=\"#f5f5f5\" stroke=\"none\" points=\"42,-269 42,-293 189,-293 189,-269 42,-269\"/>\n",
       "<text text-anchor=\"start\" x=\"47\" y=\"-277.6\" font-family=\"-apple-system, BlinkMacSystemFont, 'Segoe UI', Helvetica, Arial, sans-serif, 'Apple Color Emoji', 'Segoe UI Emoji', 'Segoe UI Symbol'\" font-size=\"13.00\">code_module</text>\n",
       "<polygon fill=\"#f5f5f5\" stroke=\"none\" points=\"189,-269 189,-293 235,-293 235,-269 189,-269\"/>\n",
       "<text text-anchor=\"start\" x=\"194\" y=\"-278.6\" font-family=\"-apple-system, BlinkMacSystemFont, 'Segoe UI', Helvetica, Arial, sans-serif, 'Apple Color Emoji', 'Segoe UI Emoji', 'Segoe UI Symbol'\" font-style=\"italic\" font-size=\"13.00\">String</text>\n",
       "<polygon fill=\"#ffffff\" stroke=\"none\" points=\"9,-245 9,-269 42,-269 42,-245 9,-245\"/>\n",
       "<polygon fill=\"#ffffff\" stroke=\"none\" points=\"42,-245 42,-269 189,-269 189,-245 42,-245\"/>\n",
       "<text text-anchor=\"start\" x=\"47\" y=\"-253.6\" font-family=\"-apple-system, BlinkMacSystemFont, 'Segoe UI', Helvetica, Arial, sans-serif, 'Apple Color Emoji', 'Segoe UI Emoji', 'Segoe UI Symbol'\" font-size=\"13.00\">code_presentation</text>\n",
       "<polygon fill=\"#ffffff\" stroke=\"none\" points=\"189,-245 189,-269 235,-269 235,-245 189,-245\"/>\n",
       "<text text-anchor=\"start\" x=\"194\" y=\"-254.6\" font-family=\"-apple-system, BlinkMacSystemFont, 'Segoe UI', Helvetica, Arial, sans-serif, 'Apple Color Emoji', 'Segoe UI Emoji', 'Segoe UI Symbol'\" font-style=\"italic\" font-size=\"13.00\">String</text>\n",
       "<polygon fill=\"#f5f5f5\" stroke=\"none\" points=\"9,-221 9,-245 42,-245 42,-221 9,-221\"/>\n",
       "<text text-anchor=\"start\" x=\"14\" y=\"-230.6\" font-family=\"-apple-system, BlinkMacSystemFont, 'Segoe UI', Helvetica, Arial, sans-serif, 'Apple Color Emoji', 'Segoe UI Emoji', 'Segoe UI Symbol'\" font-weight=\"bold\" font-size=\"13.00\">key</text>\n",
       "<polygon fill=\"#f5f5f5\" stroke=\"none\" points=\"42,-221 42,-245 189,-245 189,-221 42,-221\"/>\n",
       "<text text-anchor=\"start\" x=\"47\" y=\"-229.6\" font-family=\"-apple-system, BlinkMacSystemFont, 'Segoe UI', Helvetica, Arial, sans-serif, 'Apple Color Emoji', 'Segoe UI Emoji', 'Segoe UI Symbol'\" font-size=\"13.00\">id_student</text>\n",
       "<polygon fill=\"#f5f5f5\" stroke=\"none\" points=\"189,-221 189,-245 235,-245 235,-221 189,-221\"/>\n",
       "<text text-anchor=\"start\" x=\"194\" y=\"-230.6\" font-family=\"-apple-system, BlinkMacSystemFont, 'Segoe UI', Helvetica, Arial, sans-serif, 'Apple Color Emoji', 'Segoe UI Emoji', 'Segoe UI Symbol'\" font-style=\"italic\" font-size=\"13.00\">String</text>\n",
       "<polygon fill=\"#ffffff\" stroke=\"none\" points=\"9,-197 9,-221 42,-221 42,-197 9,-197\"/>\n",
       "<polygon fill=\"#ffffff\" stroke=\"none\" points=\"42,-197 42,-221 189,-221 189,-197 42,-197\"/>\n",
       "<text text-anchor=\"start\" x=\"47\" y=\"-205.6\" font-family=\"-apple-system, BlinkMacSystemFont, 'Segoe UI', Helvetica, Arial, sans-serif, 'Apple Color Emoji', 'Segoe UI Emoji', 'Segoe UI Symbol'\" font-size=\"13.00\">gender</text>\n",
       "<polygon fill=\"#ffffff\" stroke=\"none\" points=\"189,-197 189,-221 235,-221 235,-197 189,-197\"/>\n",
       "<text text-anchor=\"start\" x=\"194\" y=\"-206.6\" font-family=\"-apple-system, BlinkMacSystemFont, 'Segoe UI', Helvetica, Arial, sans-serif, 'Apple Color Emoji', 'Segoe UI Emoji', 'Segoe UI Symbol'\" font-style=\"italic\" font-size=\"13.00\">String</text>\n",
       "<polygon fill=\"#f5f5f5\" stroke=\"none\" points=\"9,-173 9,-197 42,-197 42,-173 9,-173\"/>\n",
       "<polygon fill=\"#f5f5f5\" stroke=\"none\" points=\"42,-173 42,-197 189,-197 189,-173 42,-173\"/>\n",
       "<text text-anchor=\"start\" x=\"47\" y=\"-181.6\" font-family=\"-apple-system, BlinkMacSystemFont, 'Segoe UI', Helvetica, Arial, sans-serif, 'Apple Color Emoji', 'Segoe UI Emoji', 'Segoe UI Symbol'\" font-size=\"13.00\">region</text>\n",
       "<polygon fill=\"#f5f5f5\" stroke=\"none\" points=\"189,-173 189,-197 235,-197 235,-173 189,-173\"/>\n",
       "<text text-anchor=\"start\" x=\"194\" y=\"-182.6\" font-family=\"-apple-system, BlinkMacSystemFont, 'Segoe UI', Helvetica, Arial, sans-serif, 'Apple Color Emoji', 'Segoe UI Emoji', 'Segoe UI Symbol'\" font-style=\"italic\" font-size=\"13.00\">String</text>\n",
       "<polygon fill=\"#ffffff\" stroke=\"none\" points=\"9,-149 9,-173 42,-173 42,-149 9,-149\"/>\n",
       "<polygon fill=\"#ffffff\" stroke=\"none\" points=\"42,-149 42,-173 189,-173 189,-149 42,-149\"/>\n",
       "<text text-anchor=\"start\" x=\"47\" y=\"-157.6\" font-family=\"-apple-system, BlinkMacSystemFont, 'Segoe UI', Helvetica, Arial, sans-serif, 'Apple Color Emoji', 'Segoe UI Emoji', 'Segoe UI Symbol'\" font-size=\"13.00\">highest_education</text>\n",
       "<polygon fill=\"#ffffff\" stroke=\"none\" points=\"189,-149 189,-173 235,-173 235,-149 189,-149\"/>\n",
       "<text text-anchor=\"start\" x=\"194\" y=\"-158.6\" font-family=\"-apple-system, BlinkMacSystemFont, 'Segoe UI', Helvetica, Arial, sans-serif, 'Apple Color Emoji', 'Segoe UI Emoji', 'Segoe UI Symbol'\" font-style=\"italic\" font-size=\"13.00\">String</text>\n",
       "<polygon fill=\"#f5f5f5\" stroke=\"none\" points=\"9,-125 9,-149 42,-149 42,-125 9,-125\"/>\n",
       "<polygon fill=\"#f5f5f5\" stroke=\"none\" points=\"42,-125 42,-149 189,-149 189,-125 42,-125\"/>\n",
       "<text text-anchor=\"start\" x=\"47\" y=\"-133.6\" font-family=\"-apple-system, BlinkMacSystemFont, 'Segoe UI', Helvetica, Arial, sans-serif, 'Apple Color Emoji', 'Segoe UI Emoji', 'Segoe UI Symbol'\" font-size=\"13.00\">imd_band</text>\n",
       "<polygon fill=\"#f5f5f5\" stroke=\"none\" points=\"189,-125 189,-149 235,-149 235,-125 189,-125\"/>\n",
       "<text text-anchor=\"start\" x=\"194\" y=\"-134.6\" font-family=\"-apple-system, BlinkMacSystemFont, 'Segoe UI', Helvetica, Arial, sans-serif, 'Apple Color Emoji', 'Segoe UI Emoji', 'Segoe UI Symbol'\" font-style=\"italic\" font-size=\"13.00\">String</text>\n",
       "<polygon fill=\"#ffffff\" stroke=\"none\" points=\"9,-101 9,-125 42,-125 42,-101 9,-101\"/>\n",
       "<polygon fill=\"#ffffff\" stroke=\"none\" points=\"42,-101 42,-125 189,-125 189,-101 42,-101\"/>\n",
       "<text text-anchor=\"start\" x=\"47\" y=\"-109.6\" font-family=\"-apple-system, BlinkMacSystemFont, 'Segoe UI', Helvetica, Arial, sans-serif, 'Apple Color Emoji', 'Segoe UI Emoji', 'Segoe UI Symbol'\" font-size=\"13.00\">age_band</text>\n",
       "<polygon fill=\"#ffffff\" stroke=\"none\" points=\"189,-101 189,-125 235,-125 235,-101 189,-101\"/>\n",
       "<text text-anchor=\"start\" x=\"194\" y=\"-110.6\" font-family=\"-apple-system, BlinkMacSystemFont, 'Segoe UI', Helvetica, Arial, sans-serif, 'Apple Color Emoji', 'Segoe UI Emoji', 'Segoe UI Symbol'\" font-style=\"italic\" font-size=\"13.00\">String</text>\n",
       "<polygon fill=\"#f5f5f5\" stroke=\"none\" points=\"9,-77 9,-101 42,-101 42,-77 9,-77\"/>\n",
       "<polygon fill=\"#f5f5f5\" stroke=\"none\" points=\"42,-77 42,-101 189,-101 189,-77 42,-77\"/>\n",
       "<text text-anchor=\"start\" x=\"47\" y=\"-85.6\" font-family=\"-apple-system, BlinkMacSystemFont, 'Segoe UI', Helvetica, Arial, sans-serif, 'Apple Color Emoji', 'Segoe UI Emoji', 'Segoe UI Symbol'\" font-size=\"13.00\">num_of_prev_attempts</text>\n",
       "<polygon fill=\"#f5f5f5\" stroke=\"none\" points=\"189,-77 189,-101 235,-101 235,-77 189,-77\"/>\n",
       "<text text-anchor=\"start\" x=\"204\" y=\"-86.6\" font-family=\"-apple-system, BlinkMacSystemFont, 'Segoe UI', Helvetica, Arial, sans-serif, 'Apple Color Emoji', 'Segoe UI Emoji', 'Segoe UI Symbol'\" font-style=\"italic\" font-size=\"13.00\">long</text>\n",
       "<polygon fill=\"#ffffff\" stroke=\"none\" points=\"9,-53 9,-77 42,-77 42,-53 9,-53\"/>\n",
       "<polygon fill=\"#ffffff\" stroke=\"none\" points=\"42,-53 42,-77 189,-77 189,-53 42,-53\"/>\n",
       "<text text-anchor=\"start\" x=\"47\" y=\"-61.6\" font-family=\"-apple-system, BlinkMacSystemFont, 'Segoe UI', Helvetica, Arial, sans-serif, 'Apple Color Emoji', 'Segoe UI Emoji', 'Segoe UI Symbol'\" font-size=\"13.00\">studied_credits</text>\n",
       "<polygon fill=\"#ffffff\" stroke=\"none\" points=\"189,-53 189,-77 235,-77 235,-53 189,-53\"/>\n",
       "<text text-anchor=\"start\" x=\"204\" y=\"-62.6\" font-family=\"-apple-system, BlinkMacSystemFont, 'Segoe UI', Helvetica, Arial, sans-serif, 'Apple Color Emoji', 'Segoe UI Emoji', 'Segoe UI Symbol'\" font-style=\"italic\" font-size=\"13.00\">long</text>\n",
       "<polygon fill=\"#f5f5f5\" stroke=\"none\" points=\"9,-29 9,-53 42,-53 42,-29 9,-29\"/>\n",
       "<polygon fill=\"#f5f5f5\" stroke=\"none\" points=\"42,-29 42,-53 189,-53 189,-29 42,-29\"/>\n",
       "<text text-anchor=\"start\" x=\"47\" y=\"-37.6\" font-family=\"-apple-system, BlinkMacSystemFont, 'Segoe UI', Helvetica, Arial, sans-serif, 'Apple Color Emoji', 'Segoe UI Emoji', 'Segoe UI Symbol'\" font-size=\"13.00\">disability</text>\n",
       "<polygon fill=\"#f5f5f5\" stroke=\"none\" points=\"189,-29 189,-53 235,-53 235,-29 189,-29\"/>\n",
       "<text text-anchor=\"start\" x=\"194\" y=\"-38.6\" font-family=\"-apple-system, BlinkMacSystemFont, 'Segoe UI', Helvetica, Arial, sans-serif, 'Apple Color Emoji', 'Segoe UI Emoji', 'Segoe UI Symbol'\" font-style=\"italic\" font-size=\"13.00\">String</text>\n",
       "<polygon fill=\"#ffffff\" stroke=\"none\" points=\"9,-5 9,-29 42,-29 42,-5 9,-5\"/>\n",
       "<polygon fill=\"#ffffff\" stroke=\"none\" points=\"42,-5 42,-29 189,-29 189,-5 42,-5\"/>\n",
       "<text text-anchor=\"start\" x=\"47\" y=\"-13.6\" font-family=\"-apple-system, BlinkMacSystemFont, 'Segoe UI', Helvetica, Arial, sans-serif, 'Apple Color Emoji', 'Segoe UI Emoji', 'Segoe UI Symbol'\" font-size=\"13.00\">final_result</text>\n",
       "<polygon fill=\"#ffffff\" stroke=\"none\" points=\"189,-5 189,-29 235,-29 235,-5 189,-5\"/>\n",
       "<text text-anchor=\"start\" x=\"194\" y=\"-14.6\" font-family=\"-apple-system, BlinkMacSystemFont, 'Segoe UI', Helvetica, Arial, sans-serif, 'Apple Color Emoji', 'Segoe UI Emoji', 'Segoe UI Symbol'\" font-style=\"italic\" font-size=\"13.00\">String</text>\n",
       "<polygon fill=\"none\" stroke=\"black\" points=\"8,-4 8,-318 236,-318 236,-4 8,-4\"/>\n",
       "</g>\n",
       "<!-- Student Assessments -->\n",
       "<g id=\"node2\" class=\"node\">\n",
       "<title>Student Assessments</title>\n",
       "<text text-anchor=\"start\" x=\"457\" y=\"-218.6\" font-family=\"-apple-system, BlinkMacSystemFont, 'Segoe UI', Helvetica, Arial, sans-serif, 'Apple Color Emoji', 'Segoe UI Emoji', 'Segoe UI Symbol'\" font-weight=\"bold\" font-size=\"13.00\">Student Assessments</text>\n",
       "<polygon fill=\"#f5f5f5\" stroke=\"none\" points=\"434,-185 434,-209 467,-209 467,-185 434,-185\"/>\n",
       "<polygon fill=\"#f5f5f5\" stroke=\"none\" points=\"467,-185 467,-209 569,-209 569,-185 467,-185\"/>\n",
       "<text text-anchor=\"start\" x=\"472\" y=\"-193.6\" font-family=\"-apple-system, BlinkMacSystemFont, 'Segoe UI', Helvetica, Arial, sans-serif, 'Apple Color Emoji', 'Segoe UI Emoji', 'Segoe UI Symbol'\" font-size=\"13.00\">id_assessment</text>\n",
       "<polygon fill=\"#f5f5f5\" stroke=\"none\" points=\"569,-185 569,-209 620,-209 620,-185 569,-185\"/>\n",
       "<text text-anchor=\"start\" x=\"579\" y=\"-194.6\" font-family=\"-apple-system, BlinkMacSystemFont, 'Segoe UI', Helvetica, Arial, sans-serif, 'Apple Color Emoji', 'Segoe UI Emoji', 'Segoe UI Symbol'\" font-style=\"italic\" font-size=\"13.00\">String</text>\n",
       "<polygon fill=\"#ffffff\" stroke=\"none\" points=\"434,-161 434,-185 467,-185 467,-161 434,-161\"/>\n",
       "<text text-anchor=\"start\" x=\"439\" y=\"-170.6\" font-family=\"-apple-system, BlinkMacSystemFont, 'Segoe UI', Helvetica, Arial, sans-serif, 'Apple Color Emoji', 'Segoe UI Emoji', 'Segoe UI Symbol'\" font-weight=\"bold\" font-size=\"13.00\">key</text>\n",
       "<polygon fill=\"#ffffff\" stroke=\"none\" points=\"467,-161 467,-185 569,-185 569,-161 467,-161\"/>\n",
       "<text text-anchor=\"start\" x=\"472\" y=\"-169.6\" font-family=\"-apple-system, BlinkMacSystemFont, 'Segoe UI', Helvetica, Arial, sans-serif, 'Apple Color Emoji', 'Segoe UI Emoji', 'Segoe UI Symbol'\" font-size=\"13.00\">id_student</text>\n",
       "<polygon fill=\"#ffffff\" stroke=\"none\" points=\"569,-161 569,-185 620,-185 620,-161 569,-161\"/>\n",
       "<text text-anchor=\"start\" x=\"579\" y=\"-170.6\" font-family=\"-apple-system, BlinkMacSystemFont, 'Segoe UI', Helvetica, Arial, sans-serif, 'Apple Color Emoji', 'Segoe UI Emoji', 'Segoe UI Symbol'\" font-style=\"italic\" font-size=\"13.00\">String</text>\n",
       "<polygon fill=\"#f5f5f5\" stroke=\"none\" points=\"434,-137 434,-161 467,-161 467,-137 434,-137\"/>\n",
       "<polygon fill=\"#f5f5f5\" stroke=\"none\" points=\"467,-137 467,-161 569,-161 569,-137 467,-137\"/>\n",
       "<text text-anchor=\"start\" x=\"472\" y=\"-145.6\" font-family=\"-apple-system, BlinkMacSystemFont, 'Segoe UI', Helvetica, Arial, sans-serif, 'Apple Color Emoji', 'Segoe UI Emoji', 'Segoe UI Symbol'\" font-size=\"13.00\">date_submitted</text>\n",
       "<polygon fill=\"#f5f5f5\" stroke=\"none\" points=\"569,-137 569,-161 620,-161 620,-137 569,-137\"/>\n",
       "<text text-anchor=\"start\" x=\"589\" y=\"-146.6\" font-family=\"-apple-system, BlinkMacSystemFont, 'Segoe UI', Helvetica, Arial, sans-serif, 'Apple Color Emoji', 'Segoe UI Emoji', 'Segoe UI Symbol'\" font-style=\"italic\" font-size=\"13.00\">long</text>\n",
       "<polygon fill=\"#ffffff\" stroke=\"none\" points=\"434,-113 434,-137 467,-137 467,-113 434,-113\"/>\n",
       "<polygon fill=\"#ffffff\" stroke=\"none\" points=\"467,-113 467,-137 569,-137 569,-113 467,-113\"/>\n",
       "<text text-anchor=\"start\" x=\"472\" y=\"-121.6\" font-family=\"-apple-system, BlinkMacSystemFont, 'Segoe UI', Helvetica, Arial, sans-serif, 'Apple Color Emoji', 'Segoe UI Emoji', 'Segoe UI Symbol'\" font-size=\"13.00\">is_banked</text>\n",
       "<polygon fill=\"#ffffff\" stroke=\"none\" points=\"569,-113 569,-137 620,-137 620,-113 569,-113\"/>\n",
       "<text text-anchor=\"start\" x=\"589\" y=\"-122.6\" font-family=\"-apple-system, BlinkMacSystemFont, 'Segoe UI', Helvetica, Arial, sans-serif, 'Apple Color Emoji', 'Segoe UI Emoji', 'Segoe UI Symbol'\" font-style=\"italic\" font-size=\"13.00\">long</text>\n",
       "<polygon fill=\"#f5f5f5\" stroke=\"none\" points=\"434,-89 434,-113 467,-113 467,-89 434,-89\"/>\n",
       "<polygon fill=\"#f5f5f5\" stroke=\"none\" points=\"467,-89 467,-113 569,-113 569,-89 467,-89\"/>\n",
       "<text text-anchor=\"start\" x=\"472\" y=\"-97.6\" font-family=\"-apple-system, BlinkMacSystemFont, 'Segoe UI', Helvetica, Arial, sans-serif, 'Apple Color Emoji', 'Segoe UI Emoji', 'Segoe UI Symbol'\" font-size=\"13.00\">score</text>\n",
       "<polygon fill=\"#f5f5f5\" stroke=\"none\" points=\"569,-89 569,-113 620,-113 620,-89 569,-89\"/>\n",
       "<text text-anchor=\"start\" x=\"574\" y=\"-98.6\" font-family=\"-apple-system, BlinkMacSystemFont, 'Segoe UI', Helvetica, Arial, sans-serif, 'Apple Color Emoji', 'Segoe UI Emoji', 'Segoe UI Symbol'\" font-style=\"italic\" font-size=\"13.00\">double</text>\n",
       "<polygon fill=\"none\" stroke=\"black\" points=\"433,-88 433,-234 621,-234 621,-88 433,-88\"/>\n",
       "</g>\n",
       "<!-- Student Info&#45;&gt;Student Assessments -->\n",
       "<g id=\"edge1\" class=\"edge\">\n",
       "<title>Student Info-&gt;Student Assessments</title>\n",
       "<path fill=\"none\" stroke=\"black\" d=\"M244.19,-161C298.3,-161 361.66,-161 414.58,-161\"/>\n",
       "<polygon fill=\"black\" stroke=\"black\" points=\"414.67,-164.5 424.67,-161 414.67,-157.5 414.67,-164.5\"/>\n",
       "<text text-anchor=\"middle\" x=\"334.5\" y=\"-164.6\" font-family=\"-apple-system, BlinkMacSystemFont, 'Segoe UI', Helvetica, Arial, sans-serif, 'Apple Color Emoji', 'Segoe UI Emoji', 'Segoe UI Symbol'\" font-size=\"13.00\">id_student → id_student</text>\n",
       "</g>\n",
       "</g>\n",
       "</svg>"
      ],
      "text/plain": [
       "<IPython.core.display.SVG object>"
      ]
     },
     "execution_count": 73,
     "metadata": {},
     "output_type": "execute_result"
    }
   ],
   "source": [
    "cube.schema"
   ]
  },
  {
   "cell_type": "code",
   "execution_count": 74,
   "id": "a2ee06b8",
   "metadata": {
    "scrolled": true
   },
   "outputs": [],
   "source": [
    "studInfo['studied_credits'].default_value = 0\n",
    "studAssess['date_submitted'].default_value = 0"
   ]
  },
  {
   "cell_type": "code",
   "execution_count": 75,
   "id": "6a5e7793",
   "metadata": {},
   "outputs": [],
   "source": [
    "studAssess['is_banked'].default_value = 0"
   ]
  },
  {
   "cell_type": "code",
   "execution_count": 76,
   "id": "149b8193",
   "metadata": {},
   "outputs": [],
   "source": [
    "h[\"student results\"] = [\n",
    "    studInfo['id_student'],\n",
    "    studInfo['studied_credits'],\n",
    "    studInfo['final_result']\n",
    "]\n",
    "\n",
    "h[\"student details\"] = [\n",
    "    studInfo['id_student'],\n",
    "    studInfo['gender'],\n",
    "    studInfo['region'],\n",
    "    studInfo['highest_education'],\n",
    "    studInfo['age_band']\n",
    "]\n",
    "\n",
    "h[\"assessments\"] = [\n",
    "    #studInfo['id_student'],\n",
    "    #studAssess['id_assessment'],\n",
    "    #studAssess['date_submitted'],\n",
    "    studAssess['is_banked']\n",
    "]"
   ]
  },
  {
   "cell_type": "code",
   "execution_count": 81,
   "id": "bd372606",
   "metadata": {},
   "outputs": [
    {
     "data": {
      "application/json": {
       "Dimensions": {
        "Student Assessments": {
         "assessments": [
          "id_assessment",
          "date_submitted",
          "is_banked"
         ]
        },
        "Student Info": {
         "student details": [
          "id_student",
          "gender",
          "region",
          "highest_education",
          "age_band"
         ],
         "student results": [
          "id_student",
          "studied_credits",
          "final_result"
         ]
        }
       },
       "Measures": {
        "contributors.COUNT": {
         "formatter": "INT[#,###]"
        }
       }
      },
      "text/html": [
       "<ul>\n",
       "<li>Student Data v2\n",
       "  <ul>\n",
       "  <li>Dimensions\n",
       "    <ul>\n",
       "    <li>Student Assessments\n",
       "      <ul>\n",
       "      <li>assessments\n",
       "        <ol>\n",
       "        <li>id_assessment</li>\n",
       "        <li>date_submitted</li>\n",
       "        <li>is_banked</li>\n",
       "        </ol>      </li>\n",
       "      </ul>\n",
       "    </li>\n",
       "    <li>Student Info\n",
       "      <ul>\n",
       "      <li>student details\n",
       "        <ol>\n",
       "        <li>id_student</li>\n",
       "        <li>gender</li>\n",
       "        <li>region</li>\n",
       "        <li>highest_education</li>\n",
       "        <li>age_band</li>\n",
       "        </ol>      </li>\n",
       "      <li>student results\n",
       "        <ol>\n",
       "        <li>id_student</li>\n",
       "        <li>studied_credits</li>\n",
       "        <li>final_result</li>\n",
       "        </ol>      </li>\n",
       "      </ul>\n",
       "    </li>\n",
       "    </ul>\n",
       "  </li>\n",
       "  <li>Measures\n",
       "    <ul>\n",
       "    <li>contributors.COUNT\n",
       "      <ul>\n",
       "      <li>formatter: INT[#,###]</li>\n",
       "      </ul>\n",
       "    </li>\n",
       "    </ul>\n",
       "  </li>\n",
       "  </ul>\n",
       "</li>\n",
       "</ul>\n"
      ],
      "text/plain": [
       "Cube(_name='Student Data v2', _hierarchies=Hierarchies(_create_hierarchy_from_arguments=<bound method Cube._create_hierarchy_from_arguments of ...>, _cube_name='Student Data v2'), _measures=Measures())"
      ]
     },
     "execution_count": 81,
     "metadata": {
      "application/json": {
       "expanded": false,
       "root": "Student Data v2"
      }
     },
     "output_type": "execute_result"
    }
   ],
   "source": [
    "cube2 = session.create_cube(studInfo, \"Student Data v2\", mode=\"manual\")\n",
    "h = cube2.hierarchies\n",
    "\n",
    "h[\"student results\"] = [\n",
    "    studInfo['id_student'],\n",
    "    studInfo['studied_credits'],\n",
    "    studInfo['final_result']\n",
    "]\n",
    "\n",
    "h[\"student details\"] = [\n",
    "    studInfo['id_student'],\n",
    "    studInfo['gender'],\n",
    "    studInfo['region'],\n",
    "    studInfo['highest_education'],\n",
    "    studInfo['age_band']\n",
    "]\n",
    "\n",
    "h[\"assessments\"] = [\n",
    "    studAssess['id_assessment'],\n",
    "    studAssess['date_submitted'],\n",
    "    studAssess['is_banked']\n",
    "]\n",
    "\n",
    "cube2"
   ]
  },
  {
   "cell_type": "code",
   "execution_count": null,
   "id": "8515f9f2",
   "metadata": {},
   "outputs": [],
   "source": []
  }
 ],
 "metadata": {
  "kernelspec": {
   "display_name": "Python 3 (ipykernel)",
   "language": "python",
   "name": "python3"
  },
  "language_info": {
   "codemirror_mode": {
    "name": "ipython",
    "version": 3
   },
   "file_extension": ".py",
   "mimetype": "text/x-python",
   "name": "python",
   "nbconvert_exporter": "python",
   "pygments_lexer": "ipython3",
   "version": "3.10.6"
  }
 },
 "nbformat": 4,
 "nbformat_minor": 5
}
